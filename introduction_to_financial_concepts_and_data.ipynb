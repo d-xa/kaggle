{
  "nbformat": 4,
  "nbformat_minor": 0,
  "metadata": {
    "kernelspec": {
      "language": "python",
      "display_name": "Python 3",
      "name": "python3"
    },
    "language_info": {
      "pygments_lexer": "ipython3",
      "nbconvert_exporter": "python",
      "version": "3.6.4",
      "file_extension": ".py",
      "codemirror_mode": {
        "name": "ipython",
        "version": 3
      },
      "name": "python",
      "mimetype": "text/x-python"
    },
    "colab": {
      "name": "introduction-to-financial-concepts-and-data.ipynb",
      "provenance": [],
      "include_colab_link": true
    }
  },
  "cells": [
    {
      "cell_type": "markdown",
      "metadata": {
        "id": "view-in-github",
        "colab_type": "text"
      },
      "source": [
        "<a href=\"https://colab.research.google.com/github/d-xa/kaggle/blob/master/introduction_to_financial_concepts_and_data.ipynb\" target=\"_parent\"><img src=\"https://colab.research.google.com/assets/colab-badge.svg\" alt=\"Open In Colab\"/></a>"
      ]
    },
    {
      "cell_type": "markdown",
      "metadata": {
        "_uuid": "8f2839f25d086af736a60e9eeb907d3b93b6e0e5",
        "_cell_guid": "b1076dfc-b9ad-4769-8c92-a6c4dae69d19",
        "id": "cvkHoWYRh6p5"
      },
      "source": [
        "#### A glimpse of our trading floor"
      ]
    },
    {
      "cell_type": "markdown",
      "metadata": {
        "id": "lC9NPt1Wh6p7"
      },
      "source": [
        "![work_at_optiver](https://www.optiver.com/wp-content/uploads/2020/11/WorkingAtOptiver_Hero.jpg)"
      ]
    },
    {
      "cell_type": "markdown",
      "metadata": {
        "id": "djgrgPIDh6p8"
      },
      "source": [
        "# Optiver Realized Volatility Prediction"
      ]
    },
    {
      "cell_type": "markdown",
      "metadata": {
        "id": "2nwVFHUQh6p8"
      },
      "source": [
        "# Introduction\n",
        "In order to make Kagglers better prepared for this competition, Optiver's data scientists have created a tutorial notebook looping through some financial concepts covered in this particular trading challenge. Also, the data structure and the example code submission will also be presented in this notebook. "
      ]
    },
    {
      "cell_type": "markdown",
      "metadata": {
        "id": "hUOgc92mh6p8"
      },
      "source": [
        "# Order book\n",
        "The term order book refers to an electronic list of buy and sell orders for a specific security or financial instrument organized by price level. An order book lists the number of shares being bid on or offered at each price point.\n",
        "\n",
        "Below is a snapshot of an order book of a stock (let's call it stock A), as you can see, all intended buy orders are on the left side of the book displayed as \"bid\" while all intended sell orders are on the right side of the book displayed as \"offer/ask\"\n"
      ]
    },
    {
      "cell_type": "markdown",
      "metadata": {
        "id": "tWNkkg2Uh6p9"
      },
      "source": [
        "![order_book_1](https://www.optiver.com/wp-content/uploads/2021/05/OrderBook3.png)\n",
        "\n",
        "An actively traded financial instrument always has a dense order book (A liquid book). As the order book data is a continous representation of market demand/supply it is always considered as the number one data source for market research. "
      ]
    },
    {
      "cell_type": "markdown",
      "metadata": {
        "id": "tDDRzA-kh6p9"
      },
      "source": [
        "# Trade\n",
        "An order book is a representation of trading intention on the market, however the market needs a buyer and seller at the **same** price to make the trade happen. Therefore, sometimes when someone wants to do a trade in a stock, they check the order book and find someone with counter-interest to trade with. \n",
        "\n",
        "For example, imagine you want to buy 20 shares of a stock A when you have the order book in the previous paragraph. Then you need to find some people who are willing to trade against you by selling 20 shares or more in total. You check the **offer** side of the book starting from the lowest price: there are 221 shares of selling interest on the level of 148. You can **lift** 20 shares for a price of 148 and **guarantee** your execution. This will be the resulting order book of stock A after your trade:"
      ]
    },
    {
      "cell_type": "markdown",
      "metadata": {
        "id": "Bccz-Dahh6p9"
      },
      "source": [
        "![order_book2](https://www.optiver.com/wp-content/uploads/2021/05/OrderBook4.png)\n",
        "\n",
        "In this case, the seller(s) sold 20 shares and buyer bought 20 shares, the exchange will match the order between seller(s) and buyer and one trade message will be broadcast to public:\n",
        "\n",
        "- 20 shares of stock A traded on the market at price of 148."
      ]
    },
    {
      "cell_type": "markdown",
      "metadata": {
        "id": "BNUHXxbyh6p9"
      },
      "source": [
        "Similar to order book data, trade data is also extremely crucial to Optiver's data scientists, as it reflects how active the market is. Actually, some commonly seen technical signals of the financial market are derived from trade data directly, such as high-low or total traded volume."
      ]
    },
    {
      "cell_type": "markdown",
      "metadata": {
        "id": "wUcOSaAah6p9"
      },
      "source": [
        "# Market making and market efficiency\n",
        "Imagine, on another day, stock A's order book becomes below shape, and you, again, want to buy 20 shares from all the intentional sellers. As you can see the book is not as dense as the previous one, and one can say, compared with the previous one, this book is **less liquid**."
      ]
    },
    {
      "cell_type": "markdown",
      "metadata": {
        "id": "S0Nkufi-h6p-"
      },
      "source": [
        "![order_book_3](https://www.optiver.com/wp-content/uploads/2021/05/OrderBook5.png)"
      ]
    },
    {
      "cell_type": "markdown",
      "metadata": {
        "id": "3xoqQ09Eh6p-"
      },
      "source": [
        "You could insert an order to buy at 148. However, there is nobody currently willing to sell to you at 148, so your order will be sitting in the book, waiting for someone to trade against it. If you get unlucky, the price goes up, and others start bidding at 149, and you never get to buy at all. Alternatively, you could insert an order to buy at 155. The exchange would match this order against the outstanding sell order of one share at 149, so you buy 1 lot at 149. Similarly, you'd buy 12 shares at a price of 150, and 7 shares at 151. Compared to trying to buy at 148, there is no risk of not getting the trade that you wanted, but you do end up buying at a higher price."
      ]
    },
    {
      "cell_type": "markdown",
      "metadata": {
        "id": "xGzzpsT1h6p-"
      },
      "source": [
        "You can see that in such an inefficient market it is difficult to trade, as trading will be more expensive, and if you want quality execution of your orders, you need to deal with higher market risk. That is why investors love liquidity, and market makers like Optiver are there to provide it, no matter how extreme market conditions are."
      ]
    },
    {
      "cell_type": "markdown",
      "metadata": {
        "id": "_btP2kmFh6p-"
      },
      "source": [
        "A market maker is a firm or individual who actively quotes two-sided markets in a security, providing bids and offers (known as asks) along with the market size of each. As a market maker will show both bid and offer orders, an order book with the presence of market maker will be more liquid, therefore a more efficient market will be provided to end investors to trade freely without concern on executions."
      ]
    },
    {
      "cell_type": "markdown",
      "metadata": {
        "id": "RPrHyGZnh6p_"
      },
      "source": [
        "# Order book statistics\n",
        "There are a lot of statistics Optiver data scientist can derive from raw order book data to reflect market liquidity and stock valuation. These stats are proven to be fundamental inputs of any market prediction algorithms. Below we would like to list some common stats to inspire Kagglers mining more valuable signals from the order book data.\n",
        "\n",
        "Let's come back to the original order book of stock A"
      ]
    },
    {
      "cell_type": "markdown",
      "metadata": {
        "id": "j_4_-RQrh6p_"
      },
      "source": [
        "![order_book_1](https://www.optiver.com/wp-content/uploads/2021/05/OrderBook3.png)"
      ]
    },
    {
      "cell_type": "markdown",
      "metadata": {
        "id": "e7vnppGUh6p_"
      },
      "source": [
        "**bid/ask spread**\n",
        "\n",
        "As different stocks trade on different level on the market we take the ratio of best offer price and best bid price to calculate the bid-ask spread. \n",
        "\n",
        "The formula of bid/ask spread can be written in below form:\n",
        "$$BidAskSpread = BestOffer/BestBid -1$$"
      ]
    },
    {
      "cell_type": "markdown",
      "metadata": {
        "id": "e4sqs2b4h6p_"
      },
      "source": [
        "**Weighted averaged price**\n",
        "\n",
        "The order book is also one of the primary source for stock valuation. A fair book-based valuation must take two factors into account: the level and the size of orders. In this competition we used weighted averaged price, or WAP, to calculate the instantaneous stock valuation and calculate realized volatility as our target. \n",
        "\n",
        "The formula of WAP can be written as below, which takes the top level price and volume information into account:\n",
        "\n",
        "$$ WAP = \\frac{BidPrice_{1}*AskSize_{1} + AskPrice_{1}*BidSize_{1}}{BidSize_{1} + AskSize_{1}} $$\n",
        "\n",
        "As you can see, if two books have both bid and ask offers on the same price level respectively, the one with more offers in place will generate a lower stock valuation, as there are more intended seller in the book, and more seller implies a fact of more supply on the market resulting in a lower stock valuation.\n",
        "\n",
        "Note that in most of cases, during the continuous trading hours, an order book should not have the scenario when bid order is higher than the offer, or ask, order. In another word, most likely, the bid and ask should never be **in cross.**\n",
        "\n",
        "In this competition the target is constructed from the WAP. The WAP of the order book snapshot is 147.5317797."
      ]
    },
    {
      "cell_type": "markdown",
      "metadata": {
        "id": "BSgSxvvxh6qA"
      },
      "source": [
        "# Log returns\n",
        "\n",
        "**How can we compare the price of a stock between yesterday and today?**\n",
        "\n",
        "The easiest method would be to just take the difference. This is definitely the most intuitive way, however **price differences** are not always comparable across stocks. For example, let's assume that we have invested $\\$$1000 dollars in both stock A and stock B and that stock A moves from $\\$$100 to $\\$$102 and stock B moves from $\\$$10 to $\\$$11. We had a total of 10 shares of A ($\\$1000 \\ / \\ \\$100 = 10$) which led to a profit of $10 \\cdot (\\$102 - \\$100) = \\$20$ and a total of 100 shares of B that yielded \\$100. So the price increase was larger for stock **A**, although the move was proportionally much larger for stock B.\n",
        "\n",
        "We can solve the above problem by dividing the move by the starting price of the stock, effectively computing the percentage change in price, also known as the **stock return**. In our example, the return for stock A was $\\frac{\\$102 - \\$100 }{\\$100} = 2\\%$, while for stock B it was $\\frac{\\$11 - \\$10 }{\\$10} = 10\\%$. The stock return coincides with the percentage change in our invested capital.\n",
        "\n",
        "Returns are widely used in finance, however **log returns** are preferred whenever some mathematical modelling is required. Calling $S_t$ the price of the stock $S$ at time $t$, we can define the log return between $t_1$ and $t_2$ as:\n",
        "$$\n",
        "r_{t_1, t_2} = \\log \\left( \\frac{S_{t_2}}{S_{t_1}} \\right)\n",
        "$$\n",
        "Usually, we look at log returns over fixed time intervals, so with 10-minute log return we mean $r_t = r_{t - 10 min, t}$.\n",
        "\n",
        "Log returns present several advantages, for example:\n",
        "- they are additive across time $r_{t_1, t_2} + r_{t_2, t_3} = r_{t_1, t_3}$\n",
        "- regular returns cannot go below -100%, while log returns are not bounded"
      ]
    },
    {
      "cell_type": "markdown",
      "metadata": {
        "id": "IW4bxT3kh6qA"
      },
      "source": [
        "# Realized volatility\n",
        "When we trade options, a valuable input to our models is the standard deviation of the stock log returns. The standard deviation will be different for log returns computed over longer or shorter intervals, for this reason it is usually normalized to a 1-year period and the annualized standard deviation is called **volatility**. \n",
        "\n",
        "In this competition, you will be given 10 minutes of book data and we ask you to predict what the volatility will be in the following 10 minutes. Volatility will be measured as follows:\n",
        "\n",
        "We will compute the log returns over all consecutive book updates and we define the **realized volatility, $\\sigma$,** as the squared root of the sum of squared log returns.\n",
        "$$\n",
        "\\sigma = \\sqrt{\\sum_{t}r_{t-1, t}^2}\n",
        "$$\n",
        "Where we use **WAP** as price of the stock to compute log returns.\n",
        "\n",
        "We want to keep definitions as simple and clear as possible, so that Kagglers without financial knowledge will not be penalized. So we are not annualizing the volatility and we are assuming that log returns have 0 mean."
      ]
    },
    {
      "cell_type": "markdown",
      "metadata": {
        "id": "_lSEjLKdh6qA"
      },
      "source": [
        "# Competition data\n",
        "In this competition, Kagglers are challenged to generate a series of short-term signals from the book and trade data of a fixed 10-minute window to predict the realized volatility of the next 10-minute window. The target, which is given in train/test.csv, can be linked with the raw order book/trade data by the same **time_id** and **stock_id**. There is no overlap between the feature and target window."
      ]
    },
    {
      "cell_type": "markdown",
      "metadata": {
        "id": "37l13LFVh6qB"
      },
      "source": [
        "Note that the competition data will come with partitioned parquet file. You can find a tutorial of parquet file handling in this [notebook](https://www.kaggle.com/sohier/working-with-parquet)"
      ]
    },
    {
      "cell_type": "code",
      "metadata": {
        "execution": {
          "iopub.status.busy": "2021-06-25T12:16:46.195625Z",
          "iopub.execute_input": "2021-06-25T12:16:46.19612Z",
          "iopub.status.idle": "2021-06-25T12:16:47.894953Z",
          "shell.execute_reply.started": "2021-06-25T12:16:46.196003Z",
          "shell.execute_reply": "2021-06-25T12:16:47.893699Z"
        },
        "trusted": true,
        "id": "RrxTa1pSh6qB"
      },
      "source": [
        "import pandas as pd\n",
        "import numpy as np\n",
        "import plotly.express as px\n",
        "train = pd.read_csv('../input/optiver-realized-volatility-prediction/train.csv')\n",
        "train.head()"
      ],
      "execution_count": null,
      "outputs": []
    },
    {
      "cell_type": "markdown",
      "metadata": {
        "id": "KRwMd00Oh6qB"
      },
      "source": [
        "Taking the first row of data, it implies that the realized vol of the **target bucket** for time_id 5, stock_id 0 is 0.004136. How does the book and trade data in **feature bucket** look like for us to build signals?"
      ]
    },
    {
      "cell_type": "code",
      "metadata": {
        "execution": {
          "iopub.status.busy": "2021-06-25T12:16:50.513781Z",
          "iopub.execute_input": "2021-06-25T12:16:50.514409Z",
          "iopub.status.idle": "2021-06-25T12:16:51.049612Z",
          "shell.execute_reply.started": "2021-06-25T12:16:50.514371Z",
          "shell.execute_reply": "2021-06-25T12:16:51.048635Z"
        },
        "trusted": true,
        "id": "bODxSM2yh6qC"
      },
      "source": [
        "book_example = pd.read_parquet('../input/optiver-realized-volatility-prediction/book_train.parquet/stock_id=0')\n",
        "trade_example =  pd.read_parquet('../input/optiver-realized-volatility-prediction/trade_train.parquet/stock_id=0')\n",
        "stock_id = '0'\n",
        "book_example = book_example[book_example['time_id']==5]\n",
        "book_example.loc[:,'stock_id'] = stock_id\n",
        "trade_example = trade_example[trade_example['time_id']==5]\n",
        "trade_example.loc[:,'stock_id'] = stock_id"
      ],
      "execution_count": null,
      "outputs": []
    },
    {
      "cell_type": "markdown",
      "metadata": {
        "id": "azXeuseyh6qC"
      },
      "source": [
        "**book data snapshot**"
      ]
    },
    {
      "cell_type": "code",
      "metadata": {
        "execution": {
          "iopub.status.busy": "2021-06-22T17:05:57.254978Z",
          "iopub.execute_input": "2021-06-22T17:05:57.255596Z",
          "iopub.status.idle": "2021-06-22T17:05:57.272438Z",
          "shell.execute_reply.started": "2021-06-22T17:05:57.255543Z",
          "shell.execute_reply": "2021-06-22T17:05:57.271103Z"
        },
        "trusted": true,
        "id": "QiCSt4Uhh6qC"
      },
      "source": [
        "book_example.head()"
      ],
      "execution_count": null,
      "outputs": []
    },
    {
      "cell_type": "markdown",
      "metadata": {
        "id": "TzNWpy99h6qC"
      },
      "source": [
        "**trade date snapshot**"
      ]
    },
    {
      "cell_type": "code",
      "metadata": {
        "execution": {
          "iopub.status.busy": "2021-06-22T17:05:58.726298Z",
          "iopub.execute_input": "2021-06-22T17:05:58.726942Z",
          "iopub.status.idle": "2021-06-22T17:05:58.740408Z",
          "shell.execute_reply.started": "2021-06-22T17:05:58.726886Z",
          "shell.execute_reply": "2021-06-22T17:05:58.739321Z"
        },
        "trusted": true,
        "id": "JPNtO5QXh6qC"
      },
      "source": [
        "trade_example.head()"
      ],
      "execution_count": null,
      "outputs": []
    },
    {
      "cell_type": "markdown",
      "metadata": {
        "id": "q6_4nj6Ih6qD"
      },
      "source": [
        "**Realized volatility calculation in python**"
      ]
    },
    {
      "cell_type": "markdown",
      "metadata": {
        "id": "AFZ4KvCMh6qD"
      },
      "source": [
        "In this competition, our target is to predict short-term realized volatility. Although the order book and trade data for the target cannot be shared, we can still present the realized volatility calculation using the feature data we provided. \n",
        "\n",
        "As realized volatility is a statistical measure of price changes on a given stock, to calculate the price change we first need to have a stock valuation at the fixed interval (1 second). We will use weighted averaged price, or WAP, of the order book data we provided."
      ]
    },
    {
      "cell_type": "code",
      "metadata": {
        "execution": {
          "iopub.status.busy": "2021-06-25T12:19:38.572174Z",
          "iopub.execute_input": "2021-06-25T12:19:38.572539Z",
          "iopub.status.idle": "2021-06-25T12:19:38.579956Z",
          "shell.execute_reply.started": "2021-06-25T12:19:38.572508Z",
          "shell.execute_reply": "2021-06-25T12:19:38.579111Z"
        },
        "trusted": true,
        "id": "x10K9F2rh6qD"
      },
      "source": [
        "book_example['wap'] = (book_example['bid_price1'] * book_example['ask_size1'] +\n",
        "                                book_example['ask_price1'] * book_example['bid_size1']) / (\n",
        "                                       book_example['bid_size1']+ book_example['ask_size1'])"
      ],
      "execution_count": null,
      "outputs": []
    },
    {
      "cell_type": "markdown",
      "metadata": {
        "id": "nW2-pXXoh6qD"
      },
      "source": [
        "**The WAP of the stock is plotted below**"
      ]
    },
    {
      "cell_type": "code",
      "metadata": {
        "execution": {
          "iopub.status.busy": "2021-06-22T17:13:08.573937Z",
          "iopub.execute_input": "2021-06-22T17:13:08.574295Z",
          "iopub.status.idle": "2021-06-22T17:13:10.128115Z",
          "shell.execute_reply.started": "2021-06-22T17:13:08.574265Z",
          "shell.execute_reply": "2021-06-22T17:13:10.126867Z"
        },
        "trusted": true,
        "id": "UCyc3ToLh6qD"
      },
      "source": [
        "fig = px.line(book_example, x=\"seconds_in_bucket\", y=\"wap\", title='WAP of stock_id_0, time_id_5')\n",
        "fig.show()"
      ],
      "execution_count": null,
      "outputs": []
    },
    {
      "cell_type": "markdown",
      "metadata": {
        "id": "p6Rem06xh6qD"
      },
      "source": [
        "To compute the log return, we can simply take **the logarithm of the ratio** between two consecutive **WAP**. The first row will have an empty return as the previous book update is unknown, therefore the empty return data point will be dropped."
      ]
    },
    {
      "cell_type": "code",
      "metadata": {
        "execution": {
          "iopub.status.busy": "2021-06-25T12:19:46.464955Z",
          "iopub.execute_input": "2021-06-25T12:19:46.465341Z",
          "iopub.status.idle": "2021-06-25T12:19:46.469499Z",
          "shell.execute_reply.started": "2021-06-25T12:19:46.465304Z",
          "shell.execute_reply": "2021-06-25T12:19:46.468504Z"
        },
        "trusted": true,
        "id": "rZCSkYOvh6qD"
      },
      "source": [
        "def log_return(list_stock_prices):\n",
        "    return np.log(list_stock_prices).diff() "
      ],
      "execution_count": null,
      "outputs": []
    },
    {
      "cell_type": "code",
      "metadata": {
        "execution": {
          "iopub.status.busy": "2021-06-25T12:19:47.146461Z",
          "iopub.execute_input": "2021-06-25T12:19:47.147057Z",
          "iopub.status.idle": "2021-06-25T12:19:47.159512Z",
          "shell.execute_reply.started": "2021-06-25T12:19:47.146987Z",
          "shell.execute_reply": "2021-06-25T12:19:47.158589Z"
        },
        "trusted": true,
        "id": "taZiZ2Fch6qD"
      },
      "source": [
        "book_example.loc[:,'log_return'] = log_return(book_example['wap'])\n",
        "book_example = book_example[~book_example['log_return'].isnull()]"
      ],
      "execution_count": null,
      "outputs": []
    },
    {
      "cell_type": "markdown",
      "metadata": {
        "execution": {
          "iopub.status.busy": "2021-06-09T15:01:53.679074Z",
          "iopub.execute_input": "2021-06-09T15:01:53.679605Z",
          "iopub.status.idle": "2021-06-09T15:01:53.686279Z",
          "shell.execute_reply.started": "2021-06-09T15:01:53.67957Z",
          "shell.execute_reply": "2021-06-09T15:01:53.684738Z"
        },
        "id": "TjyrBKSjh6qE"
      },
      "source": [
        "**Let's plot the tick-to-tick return of this instrument over this time bucket**"
      ]
    },
    {
      "cell_type": "code",
      "metadata": {
        "execution": {
          "iopub.status.busy": "2021-06-22T17:49:48.840362Z",
          "iopub.execute_input": "2021-06-22T17:49:48.840757Z",
          "iopub.status.idle": "2021-06-22T17:49:48.917363Z",
          "shell.execute_reply.started": "2021-06-22T17:49:48.840723Z",
          "shell.execute_reply": "2021-06-22T17:49:48.9162Z"
        },
        "trusted": true,
        "id": "fK0D7Uabh6qE"
      },
      "source": [
        "fig = px.line(book_example, x=\"seconds_in_bucket\", y=\"log_return\", title='Log return of stock_id_0, time_id_5')\n",
        "fig.show()"
      ],
      "execution_count": null,
      "outputs": []
    },
    {
      "cell_type": "markdown",
      "metadata": {
        "id": "8_kFhZWEh6qE"
      },
      "source": [
        "The realized vol of stock 0 in this feature bucket, will be:"
      ]
    },
    {
      "cell_type": "code",
      "metadata": {
        "execution": {
          "iopub.status.busy": "2021-06-25T12:19:49.310879Z",
          "iopub.execute_input": "2021-06-25T12:19:49.311502Z",
          "iopub.status.idle": "2021-06-25T12:19:49.320244Z",
          "shell.execute_reply.started": "2021-06-25T12:19:49.311443Z",
          "shell.execute_reply": "2021-06-25T12:19:49.319109Z"
        },
        "trusted": true,
        "id": "aN7eEHvLh6qE"
      },
      "source": [
        "def realized_volatility(series_log_return):\n",
        "    return np.sqrt(np.sum(series_log_return**2))\n",
        "realized_vol = realized_volatility(book_example['log_return'])\n",
        "print(f'Realized volatility for stock_id 0 on time_id 5 is {realized_vol}')"
      ],
      "execution_count": null,
      "outputs": []
    },
    {
      "cell_type": "markdown",
      "metadata": {
        "id": "icqk-uenh6qE"
      },
      "source": [
        "# Naive prediction: using past realized volatility as target"
      ]
    },
    {
      "cell_type": "markdown",
      "metadata": {
        "id": "Z6ty9d6Ch6qE"
      },
      "source": [
        "A commonly known fact about volatility is that it tends to be autocorrelated. We can use this property to implement a naive model that just \"predicts\" realized volatility by using whatever the realized volatility was in the initial 10 minutes.\n",
        "\n",
        "Let's calculate the past realized volatility across the training set to see how predictive a single naive signal can be."
      ]
    },
    {
      "cell_type": "code",
      "metadata": {
        "execution": {
          "iopub.status.busy": "2021-06-22T17:58:30.665521Z",
          "iopub.execute_input": "2021-06-22T17:58:30.665895Z",
          "iopub.status.idle": "2021-06-22T17:58:30.673552Z",
          "shell.execute_reply.started": "2021-06-22T17:58:30.665865Z",
          "shell.execute_reply": "2021-06-22T17:58:30.672424Z"
        },
        "trusted": true,
        "id": "5_Jra-g-h6qE"
      },
      "source": [
        "import os\n",
        "from sklearn.metrics import r2_score\n",
        "import glob\n",
        "list_order_book_file_train = glob.glob('/kaggle/input/optiver-realized-volatility-prediction/book_train.parquet/*')"
      ],
      "execution_count": null,
      "outputs": []
    },
    {
      "cell_type": "markdown",
      "metadata": {
        "id": "QupCZxbFh6qF"
      },
      "source": [
        "As the data is partitioned by stock_id in this competition to allow Kagglers better manage the memory, we try to calculcate realized volatility stock by stock and combine them into one submission file. Note that the stock id as the partition column is not present if we load the single file so we will remedy that manually. We will reuse the log return and realized volatility functions defined in the previous session."
      ]
    },
    {
      "cell_type": "code",
      "metadata": {
        "execution": {
          "iopub.status.busy": "2021-06-22T18:31:38.919415Z",
          "iopub.execute_input": "2021-06-22T18:31:38.919961Z",
          "iopub.status.idle": "2021-06-22T18:31:38.927476Z",
          "shell.execute_reply.started": "2021-06-22T18:31:38.919927Z",
          "shell.execute_reply": "2021-06-22T18:31:38.926646Z"
        },
        "trusted": true,
        "id": "llFO9WQLh6qF"
      },
      "source": [
        "def realized_volatility_per_time_id(file_path, prediction_column_name):\n",
        "    df_book_data = pd.read_parquet(file_path)\n",
        "    df_book_data['wap'] =(df_book_data['bid_price1'] * df_book_data['ask_size1']+df_book_data['ask_price1'] * df_book_data['bid_size1'])  / (\n",
        "                                      df_book_data['bid_size1']+ df_book_data[\n",
        "                                  'ask_size1'])\n",
        "    df_book_data['log_return'] = df_book_data.groupby(['time_id'])['wap'].apply(log_return)\n",
        "    df_book_data = df_book_data[~df_book_data['log_return'].isnull()]\n",
        "    df_realized_vol_per_stock =  pd.DataFrame(df_book_data.groupby(['time_id'])['log_return'].agg(realized_volatility)).reset_index()\n",
        "    df_realized_vol_per_stock = df_realized_vol_per_stock.rename(columns = {'log_return':prediction_column_name})\n",
        "    stock_id = file_path.split('=')[1]\n",
        "    df_realized_vol_per_stock['row_id'] = df_realized_vol_per_stock['time_id'].apply(lambda x:f'{stock_id}-{x}')\n",
        "    return df_realized_vol_per_stock[['row_id',prediction_column_name]]"
      ],
      "execution_count": null,
      "outputs": []
    },
    {
      "cell_type": "markdown",
      "metadata": {
        "id": "TLwDPtT_h6qF"
      },
      "source": [
        "Looping through each individual stocks, we can get the past realized volatility as prediction for each individual stocks."
      ]
    },
    {
      "cell_type": "code",
      "metadata": {
        "execution": {
          "iopub.status.busy": "2021-06-22T18:01:24.769773Z",
          "iopub.execute_input": "2021-06-22T18:01:24.770136Z",
          "iopub.status.idle": "2021-06-22T18:12:57.346484Z",
          "shell.execute_reply.started": "2021-06-22T18:01:24.770106Z",
          "shell.execute_reply": "2021-06-22T18:12:57.345476Z"
        },
        "trusted": true,
        "id": "R4Q6oQmQh6qF"
      },
      "source": [
        "def past_realized_volatility_per_stock(list_file,prediction_column_name):\n",
        "    df_past_realized = pd.DataFrame()\n",
        "    for file in list_file:\n",
        "        df_past_realized = pd.concat([df_past_realized,\n",
        "                                     realized_volatility_per_time_id(file,prediction_column_name)])\n",
        "    return df_past_realized\n",
        "df_past_realized_train = past_realized_volatility_per_stock(list_file=list_order_book_file_train,\n",
        "                                                           prediction_column_name='pred')"
      ],
      "execution_count": null,
      "outputs": []
    },
    {
      "cell_type": "markdown",
      "metadata": {
        "id": "tFikiIXNh6qF"
      },
      "source": [
        "Let's join the output dataframe with train.csv to see the performance of the naive prediction on training set."
      ]
    },
    {
      "cell_type": "code",
      "metadata": {
        "execution": {
          "iopub.status.busy": "2021-06-22T18:13:50.128553Z",
          "iopub.execute_input": "2021-06-22T18:13:50.129061Z",
          "iopub.status.idle": "2021-06-22T18:13:51.891263Z",
          "shell.execute_reply.started": "2021-06-22T18:13:50.129028Z",
          "shell.execute_reply": "2021-06-22T18:13:51.890252Z"
        },
        "trusted": true,
        "id": "GWjkYvpDh6qF"
      },
      "source": [
        "train['row_id'] = train['stock_id'].astype(str) + '-' + train['time_id'].astype(str)\n",
        "train = train[['row_id','target']]\n",
        "df_joined = train.merge(df_past_realized_train[['row_id','pred']], on = ['row_id'], how = 'left')"
      ],
      "execution_count": null,
      "outputs": []
    },
    {
      "cell_type": "markdown",
      "metadata": {
        "id": "FuFQQkO3h6qF"
      },
      "source": [
        "We will evaluate the naive prediction result by two metrics: RMSPE and R squared. "
      ]
    },
    {
      "cell_type": "code",
      "metadata": {
        "execution": {
          "iopub.status.busy": "2021-06-22T18:13:54.852792Z",
          "iopub.execute_input": "2021-06-22T18:13:54.853278Z",
          "iopub.status.idle": "2021-06-22T18:13:54.872291Z",
          "shell.execute_reply.started": "2021-06-22T18:13:54.853239Z",
          "shell.execute_reply": "2021-06-22T18:13:54.871482Z"
        },
        "trusted": true,
        "id": "K_ZV0y9Dh6qF"
      },
      "source": [
        "from sklearn.metrics import r2_score\n",
        "def rmspe(y_true, y_pred):\n",
        "    return  (np.sqrt(np.mean(np.square((y_true - y_pred) / y_true))))\n",
        "R2 = round(r2_score(y_true = df_joined['target'], y_pred = df_joined['pred']),3)\n",
        "RMSPE = round(rmspe(y_true = df_joined['target'], y_pred = df_joined['pred']),3)\n",
        "print(f'Performance of the naive prediction: R2 score: {R2}, RMSPE: {RMSPE}')"
      ],
      "execution_count": null,
      "outputs": []
    },
    {
      "cell_type": "markdown",
      "metadata": {
        "id": "dVvMlx9gh6qG"
      },
      "source": [
        "The performance of the naive model is not amazing but as a benchmark it is a reasonable start."
      ]
    },
    {
      "cell_type": "markdown",
      "metadata": {
        "id": "qrXJEy2rh6qG"
      },
      "source": [
        "# Submission"
      ]
    },
    {
      "cell_type": "markdown",
      "metadata": {
        "execution": {
          "iopub.status.busy": "2021-06-09T15:25:51.891717Z",
          "iopub.execute_input": "2021-06-09T15:25:51.89209Z",
          "iopub.status.idle": "2021-06-09T15:25:51.898582Z",
          "shell.execute_reply.started": "2021-06-09T15:25:51.892059Z",
          "shell.execute_reply": "2021-06-09T15:25:51.89729Z"
        },
        "id": "sqhWTFw7h6qG"
      },
      "source": [
        "As a last step, we will make a submission via the tutorial notebook -- through a file written to output folder.  The naive submission scored a RMSPE 0.327 on public LB, the room of improvement is big for sure!"
      ]
    },
    {
      "cell_type": "code",
      "metadata": {
        "execution": {
          "iopub.status.busy": "2021-06-22T18:31:41.736646Z",
          "iopub.execute_input": "2021-06-22T18:31:41.737029Z",
          "iopub.status.idle": "2021-06-22T18:31:41.768867Z",
          "shell.execute_reply.started": "2021-06-22T18:31:41.736997Z",
          "shell.execute_reply": "2021-06-22T18:31:41.767699Z"
        },
        "trusted": true,
        "id": "Yt04ph3Ah6qG"
      },
      "source": [
        "list_order_book_file_test = glob.glob('/kaggle/input/optiver-realized-volatility-prediction/book_test.parquet/*')\n",
        "df_naive_pred_test = past_realized_volatility_per_stock(list_file=list_order_book_file_test,\n",
        "                                                           prediction_column_name='target')\n",
        "df_naive_pred_test.to_csv('submission.csv',index = False)"
      ],
      "execution_count": null,
      "outputs": []
    },
    {
      "cell_type": "markdown",
      "metadata": {
        "id": "codYS5Iuh6qG"
      },
      "source": [
        "Note that in this competition, there will be only few rows of test data that can be downloaded. The actual evaluation program will run in background after you commit the notebook and manually submit the output. Please check to [code requirement](https://www.kaggle.com/c/optiver-realized-volatility-prediction/overview/code-requirements) for more explanation."
      ]
    },
    {
      "cell_type": "markdown",
      "metadata": {
        "id": "z5xa6ChQh6qG"
      },
      "source": [
        "The private leaderboard will be built against the real market data collected after the training period, therefore the public and private leaderboard data will have zero overlap. It will be exciting to get your model tested against the live market! As this competition will provide a very rich dataset representing market microstructure, there is unlimited amount of signals one can come up with. It is all on you, good luck! We at Optiver are really looking forward to learn from the talented Kaggle community!\n",
        "\n",
        "If you have any question about this notebook or the financial concepts behind it, feel free to ask in the comment section and we will make sure your questions get answered. \n",
        "\n",
        "Good luck!"
      ]
    }
  ]
}